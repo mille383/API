{
 "cells": [
  {
   "cell_type": "markdown",
   "metadata": {
    "id": "uut-ydqqkQmM"
   },
   "source": [
    "Simply put, your main objective for this coding challenge is to send an API request to a server, get the data, then build a solution after getting the data."
   ]
  },
  {
   "cell_type": "markdown",
   "metadata": {
    "id": "CoHe3FLlkQmQ"
   },
   "source": [
    "Here's the server address: https://ct-mock-tech-assessment.herokuapp.com/<br>"
   ]
  },
  {
   "cell_type": "markdown",
   "metadata": {
    "id": "DSVQJHFnkQmR"
   },
   "source": [
    "The data is a collection of partners who need to attend meetings within their respective countries. For each partner you will find first and last names, email addresses, country locations and dates of availability."
   ]
  },
  {
   "cell_type": "markdown",
   "metadata": {
    "id": "6wO1iSQvkQmR"
   },
   "source": [
    "Your job is to  build an invitation list based on the data. An example solution would look like the following. Keep in mind this is an example and not the real solution."
   ]
  },
  {
   "cell_type": "markdown",
   "metadata": {
    "id": "n7VZoiPukQmR"
   },
   "source": [
    "<strong>THE FOLLOWING IS `ONLY` AN EXAMPLE.</strong>"
   ]
  },
  {
   "cell_type": "code",
   "execution_count": null,
   "metadata": {
    "id": "OxX51ZzSkQmS"
   },
   "outputs": [],
   "source": [
    "# [   {   'attendeeCount': 12,\n",
    "#         'attendees': [   'rketring@codingtemple.com',\n",
    "#                          'mlacau@codingtemple.com',\n",
    "#                          'eomersa@codingtemple.com',\n",
    "#                          'ssheahan@codingtemple.com',\n",
    "#                          'msoult@codingtemple.com',\n",
    "#                          'bwatton@codingtemple.com',\n",
    "#                          'afernadez@codingtemple.com',\n",
    "#                          'mmottern@codingtemple.com',\n",
    "#                          'pdougherty@codingtemple.com',\n",
    "#                          'sbeemon@codingtemple.com',\n",
    "#                          'mvirgel@codingtemple.com',\n",
    "#                          'hpolitte@codingtemple.com'],\n",
    "#         'name': 'United States',\n",
    "#         'startDate': '2017-06-01'},\n",
    "#     {   'attendeeCount': 12,\n",
    "#         'attendees': [   'sterrence@codingtemple.com',\n",
    "#                          'dpatnode@codingtemple.com',\n",
    "#                          'pbertog@codingtemple.com',\n",
    "#                          'rguldemond@codingtemple.com',\n",
    "#                          'rfarlee@codingtemple.com',\n",
    "#                          'mclawson@codingtemple.com',\n",
    "#                          'mbottenfield@codingtemple.com',\n",
    "#                          'akulju@codingtemple.com',\n",
    "#                          'cscoby@codingtemple.com',\n",
    "#                          'dsiebenthal@codingtemple.com',\n",
    "#                          'mcrossen@codingtemple.com',\n",
    "#                          'mkimble@codingtemple.com'],\n",
    "#         'name': 'Ireland',\n",
    "#         'startDate': '2017-06-04'},\n",
    "#     {   'attendeeCount': 14,\n",
    "#         'attendees': [   'oduttinger@codingtemple.com',\n",
    "#                          'tzavesky@codingtemple.com',\n",
    "#                          'alyme@codingtemple.com',\n",
    "#                          'aferkovich@codingtemple.com',\n",
    "#                          'cbrookhouse@codingtemple.com',\n",
    "#                          'mselk@codingtemple.com',\n",
    "#                          'amacneil@codingtemple.com',\n",
    "#                          'jplants@codingtemple.com',\n",
    "#                          'devora@codingtemple.com',\n",
    "#                          'bcustis@codingtemple.com',\n",
    "#                          'labbot@codingtemple.com',\n",
    "#                          'civery@codingtemple.com',\n",
    "#                          'jfavieri@codingtemple.com',\n",
    "#                          'anickless@codingtemple.com'],\n",
    "#         'name': 'Spain',\n",
    "#         'startDate': '2017-05-03'},\n",
    "#     {   'attendeeCount': 3,\n",
    "#         'attendees': [   'ltoepperwein@codingtemple.com',\n",
    "#                          'olavine@codingtemple.com',\n",
    "#                          'ksinitiere@codingtemple.com'],\n",
    "#         'name': 'Mexico',\n",
    "#         'startDate': '2017-05-03'},\n",
    "#     {   'attendeeCount': 3,\n",
    "#         'attendees': [   'abending@codingtemple.com',\n",
    "#                          'agewant@codingtemple.com',\n",
    "#                          'mboyarski@codingtemple.com'],\n",
    "#         'name': 'Canada',\n",
    "#         'startDate': '2017-07-02'},\n",
    "#     {   'attendeeCount': None,\n",
    "#         'attendees': [],\n",
    "#         'name': 'Singapore',\n",
    "#         'startDate': '2017-06-15'},\n",
    "#     {   'attendeeCount': None,\n",
    "#         'attendees': [],\n",
    "#         'name': 'Japan',\n",
    "#         'startDate': '2017-06-27'},\n",
    "#     {   'attendeeCount': 16,\n",
    "#         'attendees': [   'arosentrater@codingtemple.com',\n",
    "#                          'jgoettsche@codingtemple.com',\n",
    "#                          'nbehal@codingtemple.com',\n",
    "#                          'bkilcher@codingtemple.com',\n",
    "#                          'ostutler@codingtemple.com',\n",
    "#                          'emaohu@codingtemple.com',\n",
    "#                          'jbattistoni@codingtemple.com',\n",
    "#                          'ccoryea@codingtemple.com',\n",
    "#                          'gcintron@codingtemple.com',\n",
    "#                          'scorlett@codingtemple.com',\n",
    "#                          'dallocca@codingtemple.com',\n",
    "#                          'dneedler@codingtemple.com',\n",
    "#                          'lsachez@codingtemple.com',\n",
    "#                          'sszabo@codingtemple.com',\n",
    "#                          'smaleck@codingtemple.com',\n",
    "#                          'jholtrop@codingtemple.com'],\n",
    "#         'name': 'United Kingdom',\n",
    "#         'startDate': '2017-06-05'},\n",
    "#     {   'attendeeCount': 5,\n",
    "#         'attendees': [   'bdurke@codingtemple.com',\n",
    "#                          'jtopp@codingtemple.com',\n",
    "#                          'tpinela@codingtemple.com',\n",
    "#                          'jdefore@codingtemple.com',\n",
    "#                          'jmacareno@codingtemple.com'],\n",
    "#         'name': 'France',\n",
    "#         'startDate': '2017-06-18'}]"
   ]
  },
  {
   "cell_type": "markdown",
   "metadata": {
    "id": "qs6gQkbZkQmT"
   },
   "source": [
    "For each partner, you need to categorize them according to the country in which they must attend the meeting. Find a way to determine which availability dates work best for everyone in EACH country. If a date doesn't work for a specific partner, they simply will not be able to attend the meeting. \n",
    "\n",
    "<strong>The kicker</strong>: this meeting will last a total of two days. Because of this, you must find a RANGE of two dates that work best for everyone. For whichever two days work the best, only display the first date everyone can start.\n",
    "\n",
    "<strong>When you've finished, send a POST request to the same API (Google how to do this!!!). If you get a server response code of 200, you were successful in building your solution. Otherwise, hit the drawing board and try again!</strong>"
   ]
  },
  {
   "cell_type": "code",
   "execution_count": 1,
   "metadata": {},
   "outputs": [],
   "source": [
    "# import required modules\n",
    "\n",
    "import requests as r\n",
    "from datetime import timedelta as delta\n",
    "from datetime import datetime as dt\n",
    "import json"
   ]
  },
  {
   "cell_type": "code",
   "execution_count": 2,
   "metadata": {},
   "outputs": [],
   "source": [
    "# get request on the data, assign to d\n",
    "\n",
    "d = r.get('https://ct-mock-tech-assessment.herokuapp.com/').json()"
   ]
  },
  {
   "cell_type": "code",
   "execution_count": 3,
   "metadata": {},
   "outputs": [],
   "source": [
    "# Object BestDates. There will be one of these for each country\n",
    "class BestDates:\n",
    "    def __init__(self, country):\n",
    "        self.country = country\n",
    "        self.best = {}\n",
    "        self.attendeeCount = 0\n",
    "        self.attendees = []\n",
    "        \n",
    "    def addDateToDict(self, date):\n",
    "        self.best[date] = 1\n",
    "        \n",
    "    def incrementDate(self, date):\n",
    "        self.best[date] += 1\n",
    "        \n",
    "    def addAttendee(self, partners, date, country):\n",
    "        for partner in partners:\n",
    "            if date in partner['avDates'] and country == partner['country']:\n",
    "                self.attendees.append(partner['email'])\n",
    "        \n",
    "    def showDates(self):\n",
    "        return self.best\n",
    "    \n",
    "    def sortbyFreq(self):\n",
    "        # don't fully grasp how this works, found on Stack Overflow\n",
    "        self.best = {k: v for k, v in sorted(self.best.items(), key=lambda item: item[1], reverse=True)}\n",
    "        \n",
    "    def showBestDate(self):\n",
    "        return list(self.best.items())[0][0]\n",
    "        \n",
    "    def showCount(self):\n",
    "        return list(self.best.items())[0][1]\n",
    "    "
   ]
  },
  {
   "cell_type": "code",
   "execution_count": 13,
   "metadata": {},
   "outputs": [],
   "source": [
    "# make a partners (all individuals) and country empty list\n",
    "partners = []\n",
    "countries = []\n",
    "\n",
    "# loop through the main partners list from the API\n",
    "for partner in d['partners']:\n",
    "    \n",
    "    # put all data into a dictionary for each individual\n",
    "    # convert the date string into a date object\n",
    "    name_dict = {\n",
    "        'fname': partner['firstName'],\n",
    "        'lname': partner['lastName'],\n",
    "        'country': partner['country'],\n",
    "        'email': partner['email'],\n",
    "        'avDates': [dt.strptime(a_date, '%Y-%m-%d').date() for a_date in partner['availableDates']]\n",
    "    }\n",
    "    \n",
    "    # add each individual's dictionary to the main list\n",
    "    partners.append(name_dict)\n",
    "    \n",
    "# add each new country to the countries list, if not already in it\n",
    "for partner in partners:\n",
    "    if partner['country'] not in countries:\n",
    "        countries.append(partner['country'])\n",
    "        \n",
    "# initialize a new country dictionary, each value is an object BestDates for that country\n",
    "country_dict = {}\n",
    "for country in countries:\n",
    "    \n",
    "    # create new BestDates objects for each country key\n",
    "    country_dict[country] = BestDates(country)"
   ]
  },
  {
   "cell_type": "code",
   "execution_count": 14,
   "metadata": {},
   "outputs": [],
   "source": [
    "# I think there is a much better way to do this cell. I could probably cut a for loop but am not seeing it.\n",
    "# 3x for loops doesn't seem very efficient\n",
    "\n",
    "# loop through every country in the country dictionary\n",
    "for country in country_dict:\n",
    "    # loop through every person\n",
    "    for partner in partners:\n",
    "        if partner['country'] == country:\n",
    "            # loop through every date in that partner's available dates\n",
    "            for date in partner['avDates']:\n",
    "                # only increment if day 1 and the next day are in the original dictionary\n",
    "                if date in country_dict[country].best and (date + delta(days=1)) in country_dict[country].best:\n",
    "                    country_dict[country].incrementDate(date)\n",
    "                else: # add any new dates to the dictionary, but they don't get incremented\n",
    "                    country_dict[country].addDateToDict(date)\n",
    "    # sort the dictionaries by largest frequency value (most attendees can attend)\n",
    "    country_dict[country].sortbyFreq()\n",
    "    # add the attendees to that country's attendee list if the best date is in their available dates\n",
    "    country_dict[country].addAttendee(partners, country_dict[country].showBestDate(), country)\n"
   ]
  },
  {
   "cell_type": "code",
   "execution_count": 15,
   "metadata": {},
   "outputs": [
    {
     "name": "stdout",
     "output_type": "stream",
     "text": [
      "{'attendeeCount': 16, 'attendees': ['rketring@codingtemple.com', 'ccafaro@codingtemple.com', 'mlacau@codingtemple.com', 'eomersa@codingtemple.com', 'ssheahan@codingtemple.com', 'msoult@codingtemple.com', 'bleeks@codingtemple.com', 'lsolid@codingtemple.com', 'bwatton@codingtemple.com', 'jmasher@codingtemple.com', 'afernadez@codingtemple.com', 'mmottern@codingtemple.com', 'pdougherty@codingtemple.com', 'sdegunya@codingtemple.com', 'sbeemon@codingtemple.com', 'mvirgel@codingtemple.com'], 'name': 'United States', 'startDate': '2017-05-28'}\n",
      "{'attendeeCount': 15, 'attendees': ['sterrence@codingtemple.com', 'dpatnode@codingtemple.com', 'enawwar@codingtemple.com', 'pbertog@codingtemple.com', 'rguldemond@codingtemple.com', 'rfarlee@codingtemple.com', 'elaskin@codingtemple.com', 'greif@codingtemple.com', 'mclawson@codingtemple.com', 'mbottenfield@codingtemple.com', 'akulju@codingtemple.com', 'cscoby@codingtemple.com', 'dsiebenthal@codingtemple.com', 'dharriet@codingtemple.com', 'mcrossen@codingtemple.com'], 'name': 'Ireland', 'startDate': '2017-05-28'}\n",
      "{'attendeeCount': 17, 'attendees': ['oduttinger@codingtemple.com', 'tzavesky@codingtemple.com', 'alyme@codingtemple.com', 'mtalton@codingtemple.com', 'aferkovich@codingtemple.com', 'cbrookhouse@codingtemple.com', 'mselk@codingtemple.com', 'amacneil@codingtemple.com', 'jplants@codingtemple.com', 'devora@codingtemple.com', 'bcustis@codingtemple.com', 'labbot@codingtemple.com', 'oalampi@codingtemple.com', 'vodien@codingtemple.com', 'alema@codingtemple.com', 'civery@codingtemple.com', 'dheckler@codingtemple.com'], 'name': 'Spain', 'startDate': '2017-04-16'}\n",
      "{'attendeeCount': 15, 'attendees': ['sbrugliera@codingtemple.com', 'crupprecht@codingtemple.com', 'ltoepperwein@codingtemple.com', 'faceveda@codingtemple.com', 'adanza@codingtemple.com', 'otreworgy@codingtemple.com', 'bparmele@codingtemple.com', 'ghilkert@codingtemple.com', 'ymikhaiel@codingtemple.com', 'mdelarme@codingtemple.com', 'vchenevert@codingtemple.com', 'amolinini@codingtemple.com', 'triopel@codingtemple.com', 'fmaier@codingtemple.com', 'bkuligowski@codingtemple.com'], 'name': 'Mexico', 'startDate': '2017-04-19'}\n",
      "{'attendeeCount': 14, 'attendees': ['rrojero@codingtemple.com', 'nshier@codingtemple.com', 'tdevoll@codingtemple.com', 'lgritton@codingtemple.com', 'elizarrago@codingtemple.com', 'ehartly@codingtemple.com', 'mhutley@codingtemple.com', 'rveyna@codingtemple.com', 'abending@codingtemple.com', 'agewant@codingtemple.com', 'csabori@codingtemple.com', 'jtrieger@codingtemple.com', 'rradoslovich@codingtemple.com', 'manglebrandt@codingtemple.com'], 'name': 'Canada', 'startDate': '2017-06-23'}\n",
      "{'attendeeCount': 17, 'attendees': ['mskrobacki@codingtemple.com', 'bchiappetta@codingtemple.com', 'vgoldhirsh@codingtemple.com', 'jkuester@codingtemple.com', 'prushford@codingtemple.com', 'jnovakovich@codingtemple.com', 'ctraut@codingtemple.com', 'skriger@codingtemple.com', 'yniedzwiecki@codingtemple.com', 'imoala@codingtemple.com', 'jmolzahn@codingtemple.com', 'rdreyfuss@codingtemple.com', 'wpreast@codingtemple.com', 'dhaselhuhn@codingtemple.com', 'hboles@codingtemple.com', 'sgallardo@codingtemple.com', 'egeis@codingtemple.com'], 'name': 'Singapore', 'startDate': '2017-06-03'}\n",
      "{'attendeeCount': 16, 'attendees': ['kbirenbaum@codingtemple.com', 'smallet@codingtemple.com', 'oblackwelder@codingtemple.com', 'mleckband@codingtemple.com', 'laubrey@codingtemple.com', 'skoellmann@codingtemple.com', 'cgrasso@codingtemple.com', 'mpittard@codingtemple.com', 'ckollmorgen@codingtemple.com', 'thouse@codingtemple.com', 'drede@codingtemple.com', 'lalway@codingtemple.com', 'fpeteet@codingtemple.com', 'lnikolas@codingtemple.com', 'vcortner@codingtemple.com', 'hvazzana@codingtemple.com'], 'name': 'Japan', 'startDate': '2017-06-09'}\n",
      "{'attendeeCount': 16, 'attendees': ['arosentrater@codingtemple.com', 'jgoettsche@codingtemple.com', 'nbehal@codingtemple.com', 'bkilcher@codingtemple.com', 'ostutler@codingtemple.com', 'emaohu@codingtemple.com', 'jbattistoni@codingtemple.com', 'ccoryea@codingtemple.com', 'gcintron@codingtemple.com', 'scorlett@codingtemple.com', 'dallocca@codingtemple.com', 'dneedler@codingtemple.com', 'lsachez@codingtemple.com', 'sszabo@codingtemple.com', 'smaleck@codingtemple.com', 'jholtrop@codingtemple.com'], 'name': 'United Kingdom', 'startDate': '2017-06-01'}\n",
      "{'attendeeCount': 17, 'attendees': ['efallick@codingtemple.com', 'wkissner@codingtemple.com', 'ecantatore@codingtemple.com', 'vrindal@codingtemple.com', 'nbeau@codingtemple.com', 'jgarafola@codingtemple.com', 'bdurke@codingtemple.com', 'jtopp@codingtemple.com', 'tgrush@codingtemple.com', 'tpinela@codingtemple.com', 'jdefore@codingtemple.com', 'jeffner@codingtemple.com', 'csibille@codingtemple.com', 'agimble@codingtemple.com', 'dmaneafaiga@codingtemple.com', 'dvosburg@codingtemple.com', 'jmacareno@codingtemple.com'], 'name': 'France', 'startDate': '2017-06-08'}\n"
     ]
    }
   ],
   "source": [
    "# build the output list full of dictionaries to post the output\n",
    "output = []\n",
    "\n",
    "for country in countries:\n",
    "    c_dict = {\n",
    "        'attendeeCount': country_dict[country].showCount(),\n",
    "        'attendees': country_dict[country].attendees,\n",
    "        'name': country,\n",
    "        'startDate': str(country_dict[country].showBestDate())\n",
    "    }\n",
    "    output.append(c_dict)\n",
    "\n",
    "\n",
    "for out in output:\n",
    "    print(out)"
   ]
  },
  {
   "cell_type": "code",
   "execution_count": 10,
   "metadata": {},
   "outputs": [
    {
     "ename": "ValueError",
     "evalue": "too many values to unpack (expected 2)",
     "output_type": "error",
     "traceback": [
      "\u001b[1;31m---------------------------------------------------------------------------\u001b[0m",
      "\u001b[1;31mValueError\u001b[0m                                Traceback (most recent call last)",
      "\u001b[1;32m<ipython-input-10-f42d0f4f6655>\u001b[0m in \u001b[0;36m<module>\u001b[1;34m\u001b[0m\n\u001b[1;32m----> 1\u001b[1;33m \u001b[0mresult\u001b[0m \u001b[1;33m=\u001b[0m \u001b[0mr\u001b[0m\u001b[1;33m.\u001b[0m\u001b[0mpost\u001b[0m\u001b[1;33m(\u001b[0m\u001b[1;34m'https://ct-mock-tech-assessment.herokuapp.com/'\u001b[0m\u001b[1;33m,\u001b[0m \u001b[0mdata\u001b[0m \u001b[1;33m=\u001b[0m \u001b[0moutput\u001b[0m\u001b[1;33m)\u001b[0m\u001b[1;33m.\u001b[0m\u001b[0mjson\u001b[0m\u001b[1;33m(\u001b[0m\u001b[1;33m)\u001b[0m\u001b[1;33m\u001b[0m\u001b[1;33m\u001b[0m\u001b[0m\n\u001b[0m",
      "\u001b[1;32m~\\anaconda3\\lib\\site-packages\\requests\\api.py\u001b[0m in \u001b[0;36mpost\u001b[1;34m(url, data, json, **kwargs)\u001b[0m\n\u001b[0;32m    117\u001b[0m     \"\"\"\n\u001b[0;32m    118\u001b[0m \u001b[1;33m\u001b[0m\u001b[0m\n\u001b[1;32m--> 119\u001b[1;33m     \u001b[1;32mreturn\u001b[0m \u001b[0mrequest\u001b[0m\u001b[1;33m(\u001b[0m\u001b[1;34m'post'\u001b[0m\u001b[1;33m,\u001b[0m \u001b[0murl\u001b[0m\u001b[1;33m,\u001b[0m \u001b[0mdata\u001b[0m\u001b[1;33m=\u001b[0m\u001b[0mdata\u001b[0m\u001b[1;33m,\u001b[0m \u001b[0mjson\u001b[0m\u001b[1;33m=\u001b[0m\u001b[0mjson\u001b[0m\u001b[1;33m,\u001b[0m \u001b[1;33m**\u001b[0m\u001b[0mkwargs\u001b[0m\u001b[1;33m)\u001b[0m\u001b[1;33m\u001b[0m\u001b[1;33m\u001b[0m\u001b[0m\n\u001b[0m\u001b[0;32m    120\u001b[0m \u001b[1;33m\u001b[0m\u001b[0m\n\u001b[0;32m    121\u001b[0m \u001b[1;33m\u001b[0m\u001b[0m\n",
      "\u001b[1;32m~\\anaconda3\\lib\\site-packages\\requests\\api.py\u001b[0m in \u001b[0;36mrequest\u001b[1;34m(method, url, **kwargs)\u001b[0m\n\u001b[0;32m     59\u001b[0m     \u001b[1;31m# cases, and look like a memory leak in others.\u001b[0m\u001b[1;33m\u001b[0m\u001b[1;33m\u001b[0m\u001b[1;33m\u001b[0m\u001b[0m\n\u001b[0;32m     60\u001b[0m     \u001b[1;32mwith\u001b[0m \u001b[0msessions\u001b[0m\u001b[1;33m.\u001b[0m\u001b[0mSession\u001b[0m\u001b[1;33m(\u001b[0m\u001b[1;33m)\u001b[0m \u001b[1;32mas\u001b[0m \u001b[0msession\u001b[0m\u001b[1;33m:\u001b[0m\u001b[1;33m\u001b[0m\u001b[1;33m\u001b[0m\u001b[0m\n\u001b[1;32m---> 61\u001b[1;33m         \u001b[1;32mreturn\u001b[0m \u001b[0msession\u001b[0m\u001b[1;33m.\u001b[0m\u001b[0mrequest\u001b[0m\u001b[1;33m(\u001b[0m\u001b[0mmethod\u001b[0m\u001b[1;33m=\u001b[0m\u001b[0mmethod\u001b[0m\u001b[1;33m,\u001b[0m \u001b[0murl\u001b[0m\u001b[1;33m=\u001b[0m\u001b[0murl\u001b[0m\u001b[1;33m,\u001b[0m \u001b[1;33m**\u001b[0m\u001b[0mkwargs\u001b[0m\u001b[1;33m)\u001b[0m\u001b[1;33m\u001b[0m\u001b[1;33m\u001b[0m\u001b[0m\n\u001b[0m\u001b[0;32m     62\u001b[0m \u001b[1;33m\u001b[0m\u001b[0m\n\u001b[0;32m     63\u001b[0m \u001b[1;33m\u001b[0m\u001b[0m\n",
      "\u001b[1;32m~\\anaconda3\\lib\\site-packages\\requests\\sessions.py\u001b[0m in \u001b[0;36mrequest\u001b[1;34m(self, method, url, params, data, headers, cookies, files, auth, timeout, allow_redirects, proxies, hooks, stream, verify, cert, json)\u001b[0m\n\u001b[0;32m    514\u001b[0m             \u001b[0mhooks\u001b[0m\u001b[1;33m=\u001b[0m\u001b[0mhooks\u001b[0m\u001b[1;33m,\u001b[0m\u001b[1;33m\u001b[0m\u001b[1;33m\u001b[0m\u001b[0m\n\u001b[0;32m    515\u001b[0m         )\n\u001b[1;32m--> 516\u001b[1;33m         \u001b[0mprep\u001b[0m \u001b[1;33m=\u001b[0m \u001b[0mself\u001b[0m\u001b[1;33m.\u001b[0m\u001b[0mprepare_request\u001b[0m\u001b[1;33m(\u001b[0m\u001b[0mreq\u001b[0m\u001b[1;33m)\u001b[0m\u001b[1;33m\u001b[0m\u001b[1;33m\u001b[0m\u001b[0m\n\u001b[0m\u001b[0;32m    517\u001b[0m \u001b[1;33m\u001b[0m\u001b[0m\n\u001b[0;32m    518\u001b[0m         \u001b[0mproxies\u001b[0m \u001b[1;33m=\u001b[0m \u001b[0mproxies\u001b[0m \u001b[1;32mor\u001b[0m \u001b[1;33m{\u001b[0m\u001b[1;33m}\u001b[0m\u001b[1;33m\u001b[0m\u001b[1;33m\u001b[0m\u001b[0m\n",
      "\u001b[1;32m~\\anaconda3\\lib\\site-packages\\requests\\sessions.py\u001b[0m in \u001b[0;36mprepare_request\u001b[1;34m(self, request)\u001b[0m\n\u001b[0;32m    447\u001b[0m \u001b[1;33m\u001b[0m\u001b[0m\n\u001b[0;32m    448\u001b[0m         \u001b[0mp\u001b[0m \u001b[1;33m=\u001b[0m \u001b[0mPreparedRequest\u001b[0m\u001b[1;33m(\u001b[0m\u001b[1;33m)\u001b[0m\u001b[1;33m\u001b[0m\u001b[1;33m\u001b[0m\u001b[0m\n\u001b[1;32m--> 449\u001b[1;33m         p.prepare(\n\u001b[0m\u001b[0;32m    450\u001b[0m             \u001b[0mmethod\u001b[0m\u001b[1;33m=\u001b[0m\u001b[0mrequest\u001b[0m\u001b[1;33m.\u001b[0m\u001b[0mmethod\u001b[0m\u001b[1;33m.\u001b[0m\u001b[0mupper\u001b[0m\u001b[1;33m(\u001b[0m\u001b[1;33m)\u001b[0m\u001b[1;33m,\u001b[0m\u001b[1;33m\u001b[0m\u001b[1;33m\u001b[0m\u001b[0m\n\u001b[0;32m    451\u001b[0m             \u001b[0murl\u001b[0m\u001b[1;33m=\u001b[0m\u001b[0mrequest\u001b[0m\u001b[1;33m.\u001b[0m\u001b[0murl\u001b[0m\u001b[1;33m,\u001b[0m\u001b[1;33m\u001b[0m\u001b[1;33m\u001b[0m\u001b[0m\n",
      "\u001b[1;32m~\\anaconda3\\lib\\site-packages\\requests\\models.py\u001b[0m in \u001b[0;36mprepare\u001b[1;34m(self, method, url, headers, files, data, params, auth, cookies, hooks, json)\u001b[0m\n\u001b[0;32m    315\u001b[0m         \u001b[0mself\u001b[0m\u001b[1;33m.\u001b[0m\u001b[0mprepare_headers\u001b[0m\u001b[1;33m(\u001b[0m\u001b[0mheaders\u001b[0m\u001b[1;33m)\u001b[0m\u001b[1;33m\u001b[0m\u001b[1;33m\u001b[0m\u001b[0m\n\u001b[0;32m    316\u001b[0m         \u001b[0mself\u001b[0m\u001b[1;33m.\u001b[0m\u001b[0mprepare_cookies\u001b[0m\u001b[1;33m(\u001b[0m\u001b[0mcookies\u001b[0m\u001b[1;33m)\u001b[0m\u001b[1;33m\u001b[0m\u001b[1;33m\u001b[0m\u001b[0m\n\u001b[1;32m--> 317\u001b[1;33m         \u001b[0mself\u001b[0m\u001b[1;33m.\u001b[0m\u001b[0mprepare_body\u001b[0m\u001b[1;33m(\u001b[0m\u001b[0mdata\u001b[0m\u001b[1;33m,\u001b[0m \u001b[0mfiles\u001b[0m\u001b[1;33m,\u001b[0m \u001b[0mjson\u001b[0m\u001b[1;33m)\u001b[0m\u001b[1;33m\u001b[0m\u001b[1;33m\u001b[0m\u001b[0m\n\u001b[0m\u001b[0;32m    318\u001b[0m         \u001b[0mself\u001b[0m\u001b[1;33m.\u001b[0m\u001b[0mprepare_auth\u001b[0m\u001b[1;33m(\u001b[0m\u001b[0mauth\u001b[0m\u001b[1;33m,\u001b[0m \u001b[0murl\u001b[0m\u001b[1;33m)\u001b[0m\u001b[1;33m\u001b[0m\u001b[1;33m\u001b[0m\u001b[0m\n\u001b[0;32m    319\u001b[0m \u001b[1;33m\u001b[0m\u001b[0m\n",
      "\u001b[1;32m~\\anaconda3\\lib\\site-packages\\requests\\models.py\u001b[0m in \u001b[0;36mprepare_body\u001b[1;34m(self, data, files, json)\u001b[0m\n\u001b[0;32m    506\u001b[0m             \u001b[1;32melse\u001b[0m\u001b[1;33m:\u001b[0m\u001b[1;33m\u001b[0m\u001b[1;33m\u001b[0m\u001b[0m\n\u001b[0;32m    507\u001b[0m                 \u001b[1;32mif\u001b[0m \u001b[0mdata\u001b[0m\u001b[1;33m:\u001b[0m\u001b[1;33m\u001b[0m\u001b[1;33m\u001b[0m\u001b[0m\n\u001b[1;32m--> 508\u001b[1;33m                     \u001b[0mbody\u001b[0m \u001b[1;33m=\u001b[0m \u001b[0mself\u001b[0m\u001b[1;33m.\u001b[0m\u001b[0m_encode_params\u001b[0m\u001b[1;33m(\u001b[0m\u001b[0mdata\u001b[0m\u001b[1;33m)\u001b[0m\u001b[1;33m\u001b[0m\u001b[1;33m\u001b[0m\u001b[0m\n\u001b[0m\u001b[0;32m    509\u001b[0m                     \u001b[1;32mif\u001b[0m \u001b[0misinstance\u001b[0m\u001b[1;33m(\u001b[0m\u001b[0mdata\u001b[0m\u001b[1;33m,\u001b[0m \u001b[0mbasestring\u001b[0m\u001b[1;33m)\u001b[0m \u001b[1;32mor\u001b[0m \u001b[0mhasattr\u001b[0m\u001b[1;33m(\u001b[0m\u001b[0mdata\u001b[0m\u001b[1;33m,\u001b[0m \u001b[1;34m'read'\u001b[0m\u001b[1;33m)\u001b[0m\u001b[1;33m:\u001b[0m\u001b[1;33m\u001b[0m\u001b[1;33m\u001b[0m\u001b[0m\n\u001b[0;32m    510\u001b[0m                         \u001b[0mcontent_type\u001b[0m \u001b[1;33m=\u001b[0m \u001b[1;32mNone\u001b[0m\u001b[1;33m\u001b[0m\u001b[1;33m\u001b[0m\u001b[0m\n",
      "\u001b[1;32m~\\anaconda3\\lib\\site-packages\\requests\\models.py\u001b[0m in \u001b[0;36m_encode_params\u001b[1;34m(data)\u001b[0m\n\u001b[0;32m     95\u001b[0m         \u001b[1;32melif\u001b[0m \u001b[0mhasattr\u001b[0m\u001b[1;33m(\u001b[0m\u001b[0mdata\u001b[0m\u001b[1;33m,\u001b[0m \u001b[1;34m'__iter__'\u001b[0m\u001b[1;33m)\u001b[0m\u001b[1;33m:\u001b[0m\u001b[1;33m\u001b[0m\u001b[1;33m\u001b[0m\u001b[0m\n\u001b[0;32m     96\u001b[0m             \u001b[0mresult\u001b[0m \u001b[1;33m=\u001b[0m \u001b[1;33m[\u001b[0m\u001b[1;33m]\u001b[0m\u001b[1;33m\u001b[0m\u001b[1;33m\u001b[0m\u001b[0m\n\u001b[1;32m---> 97\u001b[1;33m             \u001b[1;32mfor\u001b[0m \u001b[0mk\u001b[0m\u001b[1;33m,\u001b[0m \u001b[0mvs\u001b[0m \u001b[1;32min\u001b[0m \u001b[0mto_key_val_list\u001b[0m\u001b[1;33m(\u001b[0m\u001b[0mdata\u001b[0m\u001b[1;33m)\u001b[0m\u001b[1;33m:\u001b[0m\u001b[1;33m\u001b[0m\u001b[1;33m\u001b[0m\u001b[0m\n\u001b[0m\u001b[0;32m     98\u001b[0m                 \u001b[1;32mif\u001b[0m \u001b[0misinstance\u001b[0m\u001b[1;33m(\u001b[0m\u001b[0mvs\u001b[0m\u001b[1;33m,\u001b[0m \u001b[0mbasestring\u001b[0m\u001b[1;33m)\u001b[0m \u001b[1;32mor\u001b[0m \u001b[1;32mnot\u001b[0m \u001b[0mhasattr\u001b[0m\u001b[1;33m(\u001b[0m\u001b[0mvs\u001b[0m\u001b[1;33m,\u001b[0m \u001b[1;34m'__iter__'\u001b[0m\u001b[1;33m)\u001b[0m\u001b[1;33m:\u001b[0m\u001b[1;33m\u001b[0m\u001b[1;33m\u001b[0m\u001b[0m\n\u001b[0;32m     99\u001b[0m                     \u001b[0mvs\u001b[0m \u001b[1;33m=\u001b[0m \u001b[1;33m[\u001b[0m\u001b[0mvs\u001b[0m\u001b[1;33m]\u001b[0m\u001b[1;33m\u001b[0m\u001b[1;33m\u001b[0m\u001b[0m\n",
      "\u001b[1;31mValueError\u001b[0m: too many values to unpack (expected 2)"
     ]
    }
   ],
   "source": [
    "result = r.post('https://ct-mock-tech-assessment.herokuapp.com/', data = output).json()"
   ]
  },
  {
   "cell_type": "code",
   "execution_count": 8,
   "metadata": {},
   "outputs": [
    {
     "data": {
      "text/plain": [
       "503"
      ]
     },
     "execution_count": 8,
     "metadata": {},
     "output_type": "execute_result"
    }
   ],
   "source": [
    "result.status_code"
   ]
  }
 ],
 "metadata": {
  "colab": {
   "name": "conference_organizer-clean.ipynb",
   "provenance": []
  },
  "kernelspec": {
   "display_name": "Python 3",
   "language": "python",
   "name": "python3"
  },
  "language_info": {
   "codemirror_mode": {
    "name": "ipython",
    "version": 3
   },
   "file_extension": ".py",
   "mimetype": "text/x-python",
   "name": "python",
   "nbconvert_exporter": "python",
   "pygments_lexer": "ipython3",
   "version": "3.8.5"
  }
 },
 "nbformat": 4,
 "nbformat_minor": 1
}
