{
 "cells": [
  {
   "cell_type": "code",
   "execution_count": 1,
   "metadata": {},
   "outputs": [],
   "source": [
    "# OpenweatherMap API\n",
    "\n",
    "# https://openweathermap.org"
   ]
  },
  {
   "cell_type": "code",
   "execution_count": null,
   "metadata": {},
   "outputs": [],
   "source": [
    "# API/Developer\n",
    "\n",
    "# Sign Up for account\n",
    "\n",
    "# Find Where API key is\n",
    "\n",
    "# Attach the API key to EVERY single API call\n",
    "\n",
    "# Look up API documentation for the current forecast\n",
    "\n",
    "# Find out how to make an API call\n",
    "\n",
    "# Current weather conditions\n",
    "# Today's High Temperature\n",
    "# Current Temperature\n",
    "# Today's Low Temperature\n",
    "# Humidity\n",
    "# City, State"
   ]
  },
  {
   "cell_type": "code",
   "execution_count": 50,
   "metadata": {},
   "outputs": [],
   "source": [
    "import requests as r\n",
    "from IPython.display import clear_output as co\n",
    "# code for the degree symbol when outputting the weather\n",
    "a = '\\u00b0'"
   ]
  },
  {
   "cell_type": "code",
   "execution_count": 61,
   "metadata": {},
   "outputs": [],
   "source": [
    "def getWeather(location):\n",
    "    # if user entered a zip code, pass in a zip code call\n",
    "    if isinstance(location, int):\n",
    "        data = r.get(f'http://api.openweathermap.org/data/2.5/weather?zip={location},us&appid=964b3494e2764bc1618e61fd475aa6e7').json()\n",
    "    # otherwise, pass in the city name\n",
    "    else:\n",
    "        data = r.get(f'http://api.openweathermap.org/data/2.5/weather?q={location}&appid=964b3494e2764bc1618e61fd475aa6e7').json()\n",
    "    \n",
    "    # grab the relevant variables from the data dictionary\n",
    "    weather_desc = data['weather'][0]['description']\n",
    "    temp_current = (data['main']['temp']) * (9/5) - 459\n",
    "    temp_max = (data['main']['temp_max']) * (9/5) - 459\n",
    "    temp_min = (data['main']['temp_min']) * (9/5) - 459\n",
    "    humidity = data['main']['humidity']\n",
    "    city_back = data['name']\n",
    "    \n",
    "    # print out the weather in a formatted string\n",
    "    print(f\"Current weather in {city_back} is {weather_desc}.\\nCurrent temperature is {temp_current:.1f}{a}F, with a high of {temp_max:.1f}{a}F and a low of {temp_min:.1f}{a}F. Humidity {humidity}%\")\n"
   ]
  },
  {
   "cell_type": "code",
   "execution_count": 90,
   "metadata": {},
   "outputs": [],
   "source": [
    "cont = True\n",
    "\n",
    "while cont:\n",
    "    city = input(\"Enter a city name (or z to enter a zip code) to get the weather or type q to quit: \").lower()\n",
    "    co()\n",
    "    if city == 'q':\n",
    "        cont = False\n",
    "    elif city == 'z':\n",
    "        zip = int(input(\"Enter a zip code: \"))\n",
    "        try:\n",
    "            getWeather(zip)\n",
    "        except:\n",
    "            print(\"Not a valid zip code. Try again.\")\n",
    "    else:\n",
    "        try:\n",
    "            getWeather(city)\n",
    "        except:\n",
    "            print(\"Not a valid city name. Try again.\")\n"
   ]
  },
  {
   "cell_type": "code",
   "execution_count": 89,
   "metadata": {},
   "outputs": [
    {
     "name": "stdout",
     "output_type": "stream",
     "text": [
      "{'dt': 1618542000, 'main': {'temp': 279.76, 'feels_like': 277.75, 'temp_min': 279.76, 'temp_max': 280.44, 'pressure': 1017, 'sea_level': 1017, 'grnd_level': 996, 'humidity': 57, 'temp_kf': -0.68}, 'weather': [{'id': 802, 'main': 'Clouds', 'description': 'scattered clouds', 'icon': '03n'}], 'clouds': {'all': 40}, 'wind': {'speed': 2.77, 'deg': 334, 'gust': 4.52}, 'visibility': 10000, 'pop': 0, 'sys': {'pod': 'n'}, 'dt_txt': '2021-04-16 03:00:00'}\n",
      "{'dt': 1618552800, 'main': {'temp': 280.1, 'feels_like': 278.02, 'temp_min': 280.1, 'temp_max': 280.79, 'pressure': 1017, 'sea_level': 1017, 'grnd_level': 995, 'humidity': 58, 'temp_kf': -0.69}, 'weather': [{'id': 803, 'main': 'Clouds', 'description': 'broken clouds', 'icon': '04n'}], 'clouds': {'all': 55}, 'wind': {'speed': 2.97, 'deg': 307, 'gust': 5.08}, 'visibility': 10000, 'pop': 0, 'sys': {'pod': 'n'}, 'dt_txt': '2021-04-16 06:00:00'}\n",
      "{'dt': 1618563600, 'main': {'temp': 279.71, 'feels_like': 277.36, 'temp_min': 279.68, 'temp_max': 279.71, 'pressure': 1017, 'sea_level': 1017, 'grnd_level': 995, 'humidity': 66, 'temp_kf': 0.03}, 'weather': [{'id': 803, 'main': 'Clouds', 'description': 'broken clouds', 'icon': '04n'}], 'clouds': {'all': 80}, 'wind': {'speed': 3.26, 'deg': 8, 'gust': 5.23}, 'visibility': 10000, 'pop': 0, 'sys': {'pod': 'n'}, 'dt_txt': '2021-04-16 09:00:00'}\n"
     ]
    }
   ],
   "source": [
    "# messing around to add forecast...not functional\n",
    "\n",
    "def getForecast(location, days=40):\n",
    "    # if user entered a zip code, pass in a zip code call\n",
    "#     if isinstance(location, int):\n",
    "#         data = r.get(f'http://api.openweathermap.org/data/2.5/weather?zip={location},us&appid=964b3494e2764bc1618e61fd475aa6e7').json()\n",
    "#     # otherwise, pass in the city name\n",
    "#     else:\n",
    "#     data = r.get(f'http://api.openweathermap.org/data/2.5/forecast/daily?q={location}&cnt={days}&appid=964b3494e2764bc1618e61fd475aa6e7')\n",
    "    data = r.get(f'http://api.openweathermap.org/data/2.5/forecast/?q={location}&cnt={days}&appid=964b3494e2764bc1618e61fd475aa6e7').json()\n",
    "    \n",
    "    # grab the relevant variables from the data dictionary\n",
    "#     print(data['cnt'])\n",
    "    list_ = [day for day in data['list']]\n",
    "#     i = 1\n",
    "    \n",
    "#     weather_desc = data['weather'][0]['description']\n",
    "#     temp_current = (data['main']['temp']) * (9/5) - 459\n",
    "#     temp_max = (data['main']['temp_max']) * (9/5) - 459\n",
    "#     temp_min = (data['main']['temp_min']) * (9/5) - 459\n",
    "#     humidity = data['main']['humidity']\n",
    "#     city_back = data['name']\n",
    "    for day in list_:\n",
    "        print(day)\n",
    "    # print out the weather in a formatted string\n",
    "#     print(f\"Current weather in {city_back} is {weather_desc}.\\nCurrent temperature is {temp_current:.1f}{a}F, with a high of {temp_max:.1f}{a}F and a low of {temp_min:.1f}{a}F. Humidity {humidity}%\")\n",
    "\n",
    "getForecast('Chicago', 3)"
   ]
  }
 ],
 "metadata": {
  "kernelspec": {
   "display_name": "Python 3",
   "language": "python",
   "name": "python3"
  },
  "language_info": {
   "codemirror_mode": {
    "name": "ipython",
    "version": 3
   },
   "file_extension": ".py",
   "mimetype": "text/x-python",
   "name": "python",
   "nbconvert_exporter": "python",
   "pygments_lexer": "ipython3",
   "version": "3.8.5"
  }
 },
 "nbformat": 4,
 "nbformat_minor": 5
}
